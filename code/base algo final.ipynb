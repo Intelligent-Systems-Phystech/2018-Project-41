{
 "cells": [
  {
   "cell_type": "code",
   "execution_count": 15,
   "metadata": {},
   "outputs": [],
   "source": [
    "using PowerModels\n",
    "using Ipopt\n",
    "using JuMP\n",
    "using GLPK\n",
    "using DelimitedFiles"
   ]
  },
  {
   "cell_type": "code",
   "execution_count": 16,
   "metadata": {},
   "outputs": [
    {
     "name": "stdout",
     "output_type": "stream",
     "text": [
      "\u001b[35m[warn | InfrastructureModels]: Matlab parser skipping the following line:\u001b[39m\n",
      "\u001b[35m  };\u001b[39m\n",
      "\u001b[32m[info | PowerModels]: extending matpower format with constant data: const_int\u001b[39m\n",
      "\u001b[32m[info | PowerModels]: extending matpower format with constant data: const_float\u001b[39m\n",
      "\u001b[32m[info | PowerModels]: extending matpower format with data: bus_data 3x2\u001b[39m\n",
      "\u001b[32m[info | PowerModels]: extending matpower format with data: branch_names 3x2\u001b[39m\n",
      "\u001b[32m[info | PowerModels]: extending matpower format with data: areas_cells 2x5\u001b[39m\n",
      "\u001b[32m[info | PowerModels]: extending matpower format with data: areas_named_cells 2x5\u001b[39m\n",
      "\u001b[32m[info | PowerModels]: extending matpower format with data: areas_named 2x2\u001b[39m\n",
      "\u001b[32m[info | PowerModels]: extending matpower format with data: component 1x2\u001b[39m\n",
      "\u001b[32m[info | PowerModels]: extending matpower format with data: areas 2x2\u001b[39m\n",
      "\u001b[32m[info | PowerModels]: extending matpower format with constant data: const_str\u001b[39m\n",
      "\u001b[32m[info | PowerModels]: extending matpower format with data: load_data 2x1\u001b[39m\n",
      "\u001b[32m[info | PowerModels]: extending matpower format with data: branch_limit 3x2\u001b[39m\n",
      "\u001b[35m[warn | PowerModels]: added zero cost function data for dclines\u001b[39m\n",
      "\u001b[32m[info | PowerModels]: extending matpower format by appending matrix \"branch_limit\" in to \"branch\"\u001b[39m\n",
      "\u001b[32m[info | PowerModels]: extending matpower format by appending matrix \"branch_names\" in to \"branch\"\u001b[39m\n",
      "\u001b[32m[info | PowerModels]: extending matpower format by appending matrix \"bus_data\" in to \"bus\"\u001b[39m\n",
      "\u001b[32m[info | PowerModels]: removing 3 cost terms from generator 3: Float64[]\u001b[39m\n",
      "\u001b[32m[info | PowerModels]: removing 3 cost terms from dcline 1: Float64[]\u001b[39m\n"
     ]
    },
    {
     "data": {
      "text/plain": [
       "Dict{String,Any} with 21 entries:\n",
       "  \"areas_named_cells\" => Dict{String,Any}(\"1\"=>Dict{String,Any}(\"refbus_name\"=>…\n",
       "  \"bus\"               => Dict{String,Any}(\"1\"=>Dict{String,Any}(\"string\"=>\"FAV …\n",
       "  \"source_type\"       => \"matpower\"\n",
       "  \"name\"              => \"case3\"\n",
       "  \"dcline\"            => Dict{String,Any}(\"1\"=>Dict{String,Any}(\"loss1\"=>0.0,\"m…\n",
       "  \"source_version\"    => v\"2.0.0\"\n",
       "  \"gen\"               => Dict{String,Any}(\"1\"=>Dict{String,Any}(\"pg\"=>1.58067,\"…\n",
       "  \"branch\"            => Dict{String,Any}(\"1\"=>Dict{String,Any}(\"br_r\"=>0.065,\"…\n",
       "  \"const_int\"         => 123\n",
       "  \"areas_named\"       => Dict{String,Any}(\"1\"=>Dict{String,Any}(\"area\"=>4,\"refb…\n",
       "  \"storage\"           => Dict{String,Any}()\n",
       "  \"const_str\"         => \"a string\"\n",
       "  \"const_float\"       => 4.56\n",
       "  \"load_data\"         => Dict{String,Any}(\"1\"=>Dict{String,Any}(\"extra\"=>100,\"i…\n",
       "  \"baseMVA\"           => 100.0\n",
       "  \"per_unit\"          => true\n",
       "  \"areas_cells\"       => Dict{String,Any}(\"1\"=>Dict{String,Any}(\"col_3\"=>987,\"c…\n",
       "  \"areas\"             => Dict{String,Any}(\"1\"=>Dict{String,Any}(\"col_1\"=>1,\"col…\n",
       "  \"shunt\"             => Dict{String,Any}()\n",
       "  \"component\"         => Dict{String,Any}(\"1\"=>Dict{String,Any}(\"string\"=>\"temp…\n",
       "  \"load\"              => Dict{String,Any}(\"1\"=>Dict{String,Any}(\"load_bus\"=>1,\"…"
      ]
     },
     "execution_count": 16,
     "metadata": {},
     "output_type": "execute_result"
    }
   ],
   "source": [
    "network_data = PowerModels.parse_file(\"case3.m\")"
   ]
  },
  {
   "cell_type": "code",
   "execution_count": 17,
   "metadata": {
    "scrolled": true
   },
   "outputs": [
    {
     "name": "stdout",
     "output_type": "stream",
     "text": [
      "\u001b[1mMetadata\u001b[0m\n",
      "  baseMVA: 100.000\n",
      "  const_float: 4.560\n",
      "  const_int: 123\n",
      "  const_str: a string\n",
      "  name: case3\n",
      "  per_unit: true\n",
      "  source_type: matpower\n",
      "  source_version: 2.0.0\n",
      "\n",
      "\u001b[1mTable Counts\u001b[0m\n",
      "  bus: 3\n",
      "  load: 3\n",
      "  shunt: 0\n",
      "  gen: 3\n",
      "  storage: 0\n",
      "  branch: 3\n",
      "  dcline: 1\n",
      "  areas: 2\n",
      "  areas_cells: 2\n",
      "  areas_named: 2\n",
      "  areas_named_cells: 2\n",
      "  component: 1\n",
      "  load_data: 2\n",
      "\n",
      "\n",
      "\u001b[1mTable: bus\u001b[0m\n",
      "         bus_i,    vm,     va, number,       string, zone\n",
      "      1:     1, 1.100, -0.000,      1,  FAV SPOT 02,    1\n",
      "      2:     2, 0.926,  0.127,      2, FAV PLACE 05,    1\n",
      "      3:     3, 0.900, -0.301,      3,   FAV PLC 08,    2\n",
      "\n",
      "  default values:\n",
      "    base_kv: 240.000\n",
      "    bus_type: 2\n",
      "    vmin: 0.900\n",
      "    vmax: 1.100\n",
      "    area: 1\n",
      "\n",
      "\n",
      "\u001b[1mTable: load\u001b[0m\n",
      "         load_bus,    pd,    qd\n",
      "      1:        1, 1.100, 0.400\n",
      "      2:        2, 1.100, 0.400\n",
      "      3:        3, 0.950, 0.500\n",
      "\n",
      "  default values:\n",
      "    status: 1\n",
      "\n",
      "\n",
      "\u001b[1mTable: gen\u001b[0m\n",
      "         gen_bus,    pg,     qg,    vg,   pmax, ncost,  cost\n",
      "      1:       1, 1.581,  0.288, 1.100, 20.000,     3, [(3)]\n",
      "      2:       2, 1.600, -0.046, 0.926, 15.000,     3, [(3)]\n",
      "      3:       3, 0.000, -0.048, 0.900,  0.000,     0, [(0)]\n",
      "\n",
      "  default values:\n",
      "    mbase: 100.000\n",
      "    pmin: 0.000\n",
      "    qmin: -10.000\n",
      "    qmax: 10.000\n",
      "    gen_status: 1\n",
      "    model: 2\n",
      "    startup: 0.000\n",
      "    shutdown: 0.000\n",
      "\n",
      "\n",
      "\u001b[1mTable: branch\u001b[0m\n",
      "         f_bus, t_bus,  br_r,  br_x,  b_fr,  b_to, rate_a,     name, number_id, rate_i, rate_p\n",
      "      1:     1,     3, 0.065, 0.620, 0.225, 0.225, 90.000, Branch 1,       123, 50.200, 45.000\n",
      "      2:     3,     2, 0.025, 0.750, 0.350, 0.350,  0.500, Branch 2,       456, 36.000, 60.100\n",
      "      3:     1,     2, 0.042, 0.900, 0.150, 0.150, 90.000, Branch 3,       789, 12.000, 30.000\n",
      "\n",
      "  default values:\n",
      "    g_fr: 0.000\n",
      "    g_to: 0.000\n",
      "    tap: 1.000\n",
      "    shift: 0.000\n",
      "    br_status: 1\n",
      "    angmax: 0.524\n",
      "    angmin: -0.524\n",
      "    transformer: false\n",
      "\n",
      "\n",
      "\u001b[1mTable: dcline\u001b[0m\n",
      "         f_bus, t_bus,    vf,    pf,     qf,    vt,     pt,    qt, loss0, loss1, pminf, pmaxf,  qminf, qmaxf,  pmint,  pmaxt,  qmint, qmaxt, br_status, model, ncost,  cost, startup, shutdown, mp_pmax, mp_pmin, mu_pmax, mu_pmin, mu_qmaxf, mu_qmaxt, mu_qminf, mu_qmint\n",
      "      1:     1,     2, 1.100, 0.100, -0.259, 0.926, -0.100, 0.042, 0.000, 0.000, 0.100, 9.000, -9.000, 9.000, -9.000, -0.100, -9.000, 9.000,         1,     2,     0, [(0)],   0.000,    0.000, 900.000,  10.000,   0.000,   0.000,    0.000,    0.000,    0.000,    0.000\n",
      "\n",
      "\n",
      "\u001b[1mTable: areas\u001b[0m\n",
      "         col_1, col_2\n",
      "      1:     1,     1\n",
      "      2:     2,     3\n",
      "\n",
      "\n",
      "\u001b[1mTable: areas_cells\u001b[0m\n",
      "          col_1, col_2,           col_4, col_5\n",
      "      1: Area 1,   123, Slack \\\"Bus\\\" 1, 1.230\n",
      "      2: Area 2,   456,     Slack Bus 3, 4.560\n",
      "\n",
      "  default values:\n",
      "    col_3: 987\n",
      "\n",
      "\n",
      "\u001b[1mTable: areas_named\u001b[0m\n",
      "         area, refbus\n",
      "      1:    4,      5\n",
      "      2:    5,      6\n",
      "\n",
      "\n",
      "\u001b[1mTable: areas_named_cells\u001b[0m\n",
      "         area, area_name, refbus, refbus_name\n",
      "      1:  123,    Area 1,  1.230, Slack Bus 1\n",
      "      2:  456,    Area 2,  4.560, Slack Bus 3\n",
      "\n",
      "  default values:\n",
      "    area2: 987\n",
      "\n",
      "\n",
      "\u001b[1mTable: component\u001b[0m\n",
      "           number, string\n",
      "      1: 1000.000,   temp\n",
      "\n",
      "\n",
      "\u001b[1mTable: load_data\u001b[0m\n",
      "         extra\n",
      "      1:   100\n",
      "      2:   101\n"
     ]
    }
   ],
   "source": [
    "PowerModels.print_summary(network_data)"
   ]
  },
  {
   "cell_type": "code",
   "execution_count": 18,
   "metadata": {},
   "outputs": [
    {
     "data": {
      "text/plain": [
       "3"
      ]
     },
     "execution_count": 18,
     "metadata": {},
     "output_type": "execute_result"
    }
   ],
   "source": [
    "buses = network_data[\"bus\"]\n",
    "num_buses = length(buses)"
   ]
  },
  {
   "cell_type": "code",
   "execution_count": 19,
   "metadata": {},
   "outputs": [
    {
     "data": {
      "text/plain": [
       "3"
      ]
     },
     "execution_count": 19,
     "metadata": {},
     "output_type": "execute_result"
    }
   ],
   "source": [
    "gens = network_data[\"gen\"]\n",
    "num_gens = length(gens)"
   ]
  },
  {
   "cell_type": "code",
   "execution_count": 20,
   "metadata": {},
   "outputs": [
    {
     "data": {
      "text/plain": [
       "3"
      ]
     },
     "execution_count": 20,
     "metadata": {},
     "output_type": "execute_result"
    }
   ],
   "source": [
    "loads = network_data[\"load\"]\n",
    "num_loads = length(loads)"
   ]
  },
  {
   "cell_type": "code",
   "execution_count": 21,
   "metadata": {},
   "outputs": [
    {
     "data": {
      "text/plain": [
       "3"
      ]
     },
     "execution_count": 21,
     "metadata": {},
     "output_type": "execute_result"
    }
   ],
   "source": [
    "branches = network_data[\"branch\"]\n",
    "num_branches = length(branches)"
   ]
  },
  {
   "cell_type": "code",
   "execution_count": 22,
   "metadata": {},
   "outputs": [
    {
     "name": "stdout",
     "output_type": "stream",
     "text": [
      "\u001b[35m[warn | PowerModels]: no reference bus found, setting bus 1 as reference based on generator 1\u001b[39m\n",
      "This is Ipopt version 3.12.10, running with linear solver mumps.\n",
      "NOTE: Other linear solvers might be more efficient (see Ipopt documentation).\n",
      "\n",
      "Number of nonzeros in equality constraint Jacobian...:       84\n",
      "Number of nonzeros in inequality constraint Jacobian.:       36\n",
      "Number of nonzeros in Lagrangian Hessian.............:      134\n",
      "\n",
      "Total number of variables............................:       27\n",
      "                     variables with only lower bounds:        0\n",
      "                variables with lower and upper bounds:       24\n",
      "                     variables with only upper bounds:        0\n",
      "Total number of equality constraints.................:       20\n",
      "Total number of inequality constraints...............:       12\n",
      "        inequality constraints with only lower bounds:        3\n",
      "   inequality constraints with lower and upper bounds:        0\n",
      "        inequality constraints with only upper bounds:        9\n",
      "\n",
      "iter    objective    inf_pr   inf_du lg(mu)  ||d||  lg(rg) alpha_du alpha_pr  ls\n",
      "   0  6.3949934e+00 1.20e+00 2.46e+01  -1.0 0.00e+00    -  0.00e+00 0.00e+00   0\n",
      "   1  1.9678875e+03 5.36e-01 1.04e+02  -1.0 1.80e+00    -  5.78e-03 5.54e-01h  1\n",
      "   2  3.9189542e+03 2.21e-01 4.33e+01  -1.0 8.67e-01    -  7.86e-01 5.87e-01h  1\n",
      "   3  4.0838932e+03 1.99e-01 3.91e+01  -1.0 3.28e-01    -  9.90e-01 1.01e-01h  1\n",
      "   4  4.6246921e+03 1.30e-01 3.00e+01  -1.0 3.88e-01    -  3.99e-01 3.44e-01h  1\n",
      "   5  5.3156503e+03 5.15e-02 6.92e+01  -1.0 3.39e-01    -  1.00e+00 6.05e-01h  1\n",
      "   6  5.3292409e+03 5.01e-02 3.46e+02  -1.0 1.37e-01    -  6.54e-01 2.77e-02h  1\n",
      "   7  5.5205184e+03 3.21e-02 1.94e+02  -1.0 1.96e-01    -  2.39e-01 3.60e-01h  1\n",
      "   8  5.8348400e+03 5.52e-03 5.79e+01  -1.0 1.41e-01    -  4.69e-01 8.28e-01h  1\n",
      "   9  5.9095426e+03 6.11e-05 1.03e+00  -1.0 2.72e-02    -  1.00e+00 1.00e+00h  1\n",
      "iter    objective    inf_pr   inf_du lg(mu)  ||d||  lg(rg) alpha_du alpha_pr  ls\n",
      "  10  5.9074933e+03 1.06e-06 9.33e-03  -1.7 1.93e-03    -  1.00e+00 1.00e+00f  1\n",
      "  11  5.9068856e+03 1.67e-07 3.76e-04  -3.8 7.76e-04    -  1.00e+00 1.00e+00f  1\n",
      "  12  5.9068795e+03 3.04e-11 5.44e-08  -5.7 1.12e-05    -  1.00e+00 1.00e+00h  1\n",
      "  13  5.9068794e+03 1.08e-15 2.99e-12  -8.6 6.80e-08    -  1.00e+00 1.00e+00h  1\n",
      "\n",
      "Number of Iterations....: 13\n",
      "\n",
      "                                   (scaled)                 (unscaled)\n",
      "Objective...............:   1.1813758833436352e+03    5.9068794167181759e+03\n",
      "Dual infeasibility......:   2.9935758855821582e-12    1.4967879427910791e-11\n",
      "Constraint violation....:   1.0824674490095276e-15    1.0824674490095276e-15\n",
      "Complementarity.........:   2.5073447862552047e-09    1.2536723931276023e-08\n",
      "Overall NLP error.......:   2.5073447862552047e-09    1.2536723931276023e-08\n",
      "\n",
      "\n",
      "Number of objective function evaluations             = 14\n",
      "Number of objective gradient evaluations             = 14\n",
      "Number of equality constraint evaluations            = 14\n",
      "Number of inequality constraint evaluations          = 14\n",
      "Number of equality constraint Jacobian evaluations   = 14\n",
      "Number of inequality constraint Jacobian evaluations = 14\n",
      "Number of Lagrangian Hessian evaluations             = 13\n",
      "Total CPU secs in IPOPT (w/o function evaluations)   =      0.009\n",
      "Total CPU secs in NLP function evaluations           =      0.002\n",
      "\n",
      "EXIT: Optimal Solution Found.\n",
      "\u001b[35m[warn | PowerModels]: there was an issue with getsolvetime() on the solver, falling back on @timed.  This is not a rigorous timing value.\u001b[39m\n",
      "Dict{String,Any}(\"solve_time\"=>0.0446954,\"status\"=>:LocalOptimal,\"objective\"=>5906.88,\"solver\"=>\"IpoptSolver\",\"solution\"=>Dict{String,Any}(\"dcline\"=>Dict{String,Any}(\"1\"=>Dict{String,Any}(\"qf\"=>-0.244802,\"qt\"=>0.0393416,\"pf\"=>0.1,\"pt\"=>-0.1)),\"baseMVA\"=>100.0,\"gen\"=>Dict{String,Any}(\"1\"=>Dict{String,Any}(\"qg\"=>0.30217,\"pg\"=>1.58067),\"2\"=>Dict{String,Any}(\"qg\"=>-0.0485697,\"pg\"=>1.60006),\"3\"=>Dict{String,Any}(\"qg\"=>-0.0484264,\"pg\"=>0.0)),\"bus\"=>Dict{String,Any}(\"1\"=>Dict{String,Any}(\"va\"=>0.0,\"vm\"=>1.1),\"2\"=>Dict{String,Any}(\"va\"=>0.12669,\"vm\"=>0.926171),\"3\"=>Dict{String,Any}(\"va\"=>-0.301368,\"vm\"=>0.9)),\"per_unit\"=>true),\"data\"=>Dict{String,Any}(\"name\"=>\"case3\",\"bus_count\"=>3,\"branch_count\"=>3),\"machine\"=>Dict(\"cpu\"=>\"Intel(R) Core(TM) i5-5257U CPU @ 2.70GHz\",\"memory\"=>\"8.0 Gb\"),\"objective_lb\"=>-Inf)"
     ]
    }
   ],
   "source": [
    "result_ipopt = run_ac_opf(network_data, IpoptSolver())\n",
    "print(result_ipopt)"
   ]
  },
  {
   "cell_type": "code",
   "execution_count": 23,
   "metadata": {},
   "outputs": [
    {
     "data": {
      "text/plain": [
       "true"
      ]
     },
     "execution_count": 23,
     "metadata": {},
     "output_type": "execute_result"
    }
   ],
   "source": [
    "result_ipopt[\"status\"] == :LocalOptimal"
   ]
  },
  {
   "cell_type": "code",
   "execution_count": 24,
   "metadata": {},
   "outputs": [
    {
     "ename": "UndefVarError",
     "evalue": "UndefVarError: mpc_base not defined",
     "output_type": "error",
     "traceback": [
      "UndefVarError: mpc_base not defined",
      "",
      "Stacktrace:",
      " [1] top-level scope at In[24]:1"
     ]
    }
   ],
   "source": [
    "\n",
    "\n",
    "θ₀=mpc_base[\"bus\"][:,9]*pi/180\n",
    "ϑ₀=E'*θ₀\n",
    "v₀=mpc_base[\"bus\"][:,8]\n",
    "v_cplx₀=v₀.*exp.(1im*θ₀)\n",
    "vv_ft₀=v₀[idx_fr].*v₀[idx_to]\n",
    "gen_status=mpc_base[\"gen\"][:,8]"
   ]
  },
  {
   "cell_type": "code",
   "execution_count": 11,
   "metadata": {},
   "outputs": [
    {
     "name": "stderr",
     "output_type": "stream",
     "text": [
      "┌ Warning: Deprecated syntax `implicit assignment to global variable `#27###368``.\n",
      "│ Use `global #27###368` instead.\n",
      "└ @ nothing none:0\n",
      "┌ Warning: Deprecated syntax `implicit assignment to global variable `#27###368``.\n",
      "│ Use `global #27###368` instead.\n",
      "└ @ nothing none:0\n",
      "┌ Warning: Deprecated syntax `implicit assignment to global variable `#32###369``.\n",
      "│ Use `global #32###369` instead.\n",
      "└ @ nothing none:0\n",
      "┌ Warning: Deprecated syntax `implicit assignment to global variable `#32###369``.\n",
      "│ Use `global #32###369` instead.\n",
      "└ @ nothing none:0\n",
      "┌ Warning: Deprecated syntax `implicit assignment to global variable `#37###370``.\n",
      "│ Use `global #37###370` instead.\n",
      "└ @ nothing none:0\n",
      "┌ Warning: Deprecated syntax `implicit assignment to global variable `#37###370``.\n",
      "│ Use `global #37###370` instead.\n",
      "└ @ nothing none:0\n",
      "┌ Warning: Deprecated syntax `implicit assignment to global variable `#42###371``.\n",
      "│ Use `global #42###371` instead.\n",
      "└ @ nothing none:0\n",
      "┌ Warning: Deprecated syntax `implicit assignment to global variable `#42###371``.\n",
      "│ Use `global #42###371` instead.\n",
      "└ @ nothing none:0\n",
      "┌ Warning: Deprecated syntax `implicit assignment to global variable `#47###372``.\n",
      "│ Use `global #47###372` instead.\n",
      "└ @ nothing none:0\n",
      "┌ Warning: Deprecated syntax `implicit assignment to global variable `#47###372``.\n",
      "│ Use `global #47###372` instead.\n",
      "└ @ nothing none:0\n",
      "┌ Warning: Deprecated syntax `implicit assignment to global variable `#53###373``.\n",
      "│ Use `global #53###373` instead.\n",
      "└ @ nothing none:0\n",
      "┌ Warning: Deprecated syntax `implicit assignment to global variable `#53###373``.\n",
      "│ Use `global #53###373` instead.\n",
      "└ @ nothing none:0\n"
     ]
    },
    {
     "data": {
      "text/latex": [
       "$$ q^{branch}_{i,j} \\quad\\forall i \\in \\{1,2,3\\}, j \\in \\{1,2,3\\} $$"
      ],
      "text/plain": [
       "3×3 Array{Variable,2}:\n",
       " q^{branch}[1,1]  q^{branch}[1,2]  q^{branch}[1,3]\n",
       " q^{branch}[2,1]  q^{branch}[2,2]  q^{branch}[2,3]\n",
       " q^{branch}[3,1]  q^{branch}[3,2]  q^{branch}[3,3]"
      ]
     },
     "execution_count": 11,
     "metadata": {},
     "output_type": "execute_result"
    }
   ],
   "source": [
    "model = Model()\n",
    "@variable(model, pg[i=1:num_gens], start=0, basename=\"p^g\")\n",
    "@variable(model, qg[i=1:num_gens], start=0, basename=\"q^g\")\n",
    "@variable(model, vre[i=1:num_buses], start=0, basename=\"v^{re}\")\n",
    "@variable(model, vim[i=1:num_buses], start=0, basename=\"v^{im}\")\n",
    "@variable(model, p[i=1:num_buses, j=1:num_buses], start=0, basename=\"p^{branch}\")\n",
    "@variable(model, q[i=1:num_buses, j=1:num_buses], start=0, basename=\"q^{branch}\")"
   ]
  },
  {
   "cell_type": "code",
   "execution_count": 25,
   "metadata": {},
   "outputs": [
    {
     "data": {
      "text/latex": [
       "$$ \\begin{alignat*}{1}\\min\\quad & 0\\\\\n",
       "\\text{Subject to} \\quad & p^g_{i} \\quad\\forall i \\in \\{1,2,3\\}\\\\\n",
       " & q^g_{i} \\quad\\forall i \\in \\{1,2,3\\}\\\\\n",
       " & v^{re}_{i} \\quad\\forall i \\in \\{1,2,3\\}\\\\\n",
       " & v^{im}_{i} \\quad\\forall i \\in \\{1,2,3\\}\\\\\n",
       " & p^{branch}_{i,j} \\quad\\forall i \\in \\{1,2,3\\}, j \\in \\{1,2,3\\}\\\\\n",
       " & q^{branch}_{i,j} \\quad\\forall i \\in \\{1,2,3\\}, j \\in \\{1,2,3\\}\\\\\n",
       " & pg_{i} \\quad\\forall i \\in \\{1,2,3\\}\\\\\n",
       " & qg_{i} \\quad\\forall i \\in \\{1,2,3\\}\\\\\n",
       " & vre_{i} \\quad\\forall i \\in \\{1,2,3\\}\\\\\n",
       " & vim_{i} \\quad\\forall i \\in \\{1,2,3\\}\\\\\n",
       " & p_{i,j} \\quad\\forall i \\in \\{1,2,3\\}, j \\in \\{1,2,3\\}\\\\\n",
       " & q_{i,j} \\quad\\forall i \\in \\{1,2,3\\}, j \\in \\{1,2,3\\}\\\\\n",
       "\\end{alignat*}\n",
       " $$"
      ],
      "text/plain": [
       "Feasibility problem with:\n",
       " * 0 linear constraints\n",
       " * 60 variables\n",
       "Solver is default solver"
      ]
     },
     "execution_count": 25,
     "metadata": {},
     "output_type": "execute_result"
    }
   ],
   "source": [
    "model"
   ]
  },
  {
   "cell_type": "code",
   "execution_count": 13,
   "metadata": {},
   "outputs": [
    {
     "name": "stderr",
     "output_type": "stream",
     "text": [
      "┌ Warning: Deprecated syntax `implicit assignment to global variable `#59###374``.\n",
      "│ Use `global #59###374` instead.\n",
      "└ @ nothing none:0\n",
      "┌ Warning: Deprecated syntax `implicit assignment to global variable `#59###374``.\n",
      "│ Use `global #59###374` instead.\n",
      "└ @ nothing none:0\n",
      "┌ Warning: Deprecated syntax `implicit assignment to global variable `#64###375``.\n",
      "│ Use `global #64###375` instead.\n",
      "└ @ nothing none:0\n",
      "┌ Warning: Deprecated syntax `implicit assignment to global variable `#64###375``.\n",
      "│ Use `global #64###375` instead.\n",
      "└ @ nothing none:0\n",
      "┌ Warning: Deprecated syntax `implicit assignment to global variable `#69###376``.\n",
      "│ Use `global #69###376` instead.\n",
      "└ @ nothing none:0\n",
      "┌ Warning: Deprecated syntax `implicit assignment to global variable `#69###376``.\n",
      "│ Use `global #69###376` instead.\n",
      "└ @ nothing none:0\n",
      "┌ Warning: Deprecated syntax `implicit assignment to global variable `#74###377``.\n",
      "│ Use `global #74###377` instead.\n",
      "└ @ nothing none:0\n",
      "┌ Warning: Deprecated syntax `implicit assignment to global variable `#74###377``.\n",
      "│ Use `global #74###377` instead.\n",
      "└ @ nothing none:0\n",
      "┌ Warning: Deprecated syntax `implicit assignment to global variable `#79###378``.\n",
      "│ Use `global #79###378` instead.\n",
      "└ @ nothing none:0\n",
      "┌ Warning: Deprecated syntax `implicit assignment to global variable `#79###378``.\n",
      "│ Use `global #79###378` instead.\n",
      "└ @ nothing none:0\n",
      "┌ Warning: Deprecated syntax `implicit assignment to global variable `#85###379``.\n",
      "│ Use `global #85###379` instead.\n",
      "└ @ nothing none:0\n",
      "┌ Warning: Deprecated syntax `implicit assignment to global variable `#85###379``.\n",
      "│ Use `global #85###379` instead.\n",
      "└ @ nothing none:0\n"
     ]
    },
    {
     "data": {
      "text/latex": [
       "$$ q_{i,j} \\quad\\forall i \\in \\{1,2,3\\}, j \\in \\{1,2,3\\} $$"
      ],
      "text/plain": [
       "3×3 Array{Variable,2}:\n",
       " q[1,1]  q[1,2]  q[1,3]\n",
       " q[2,1]  q[2,2]  q[2,3]\n",
       " q[3,1]  q[3,2]  q[3,3]"
      ]
     },
     "execution_count": 13,
     "metadata": {},
     "output_type": "execute_result"
    }
   ],
   "source": [
    "@variable(model, pg[i=1:num_gens], start=0)\n",
    "@variable(model, qg[i=1:num_gens], start=0)\n",
    "@variable(model, vre[i=1:num_buses], start=0)\n",
    "@variable(model, vim[i=1:num_buses], start=0)\n",
    "@variable(model, p[i=1:num_buses, j=1:num_buses], start=0)\n",
    "@variable(model, q[i=1:num_buses, j=1:num_buses], start=0)"
   ]
  },
  {
   "cell_type": "code",
   "execution_count": 14,
   "metadata": {},
   "outputs": [
    {
     "name": "stdout",
     "output_type": "stream",
     "text": [
      "This is Ipopt version 3.12.10, running with linear solver mumps.\n",
      "NOTE: Other linear solvers might be more efficient (see Ipopt documentation).\n",
      "\n",
      "Number of nonzeros in equality constraint Jacobian...:       84\n",
      "Number of nonzeros in inequality constraint Jacobian.:       36\n",
      "Number of nonzeros in Lagrangian Hessian.............:      134\n",
      "\n",
      "Total number of variables............................:       27\n",
      "                     variables with only lower bounds:        0\n",
      "                variables with lower and upper bounds:       24\n",
      "                     variables with only upper bounds:        0\n",
      "Total number of equality constraints.................:       20\n",
      "Total number of inequality constraints...............:       12\n",
      "        inequality constraints with only lower bounds:        3\n",
      "   inequality constraints with lower and upper bounds:        0\n",
      "        inequality constraints with only upper bounds:        9\n",
      "\n",
      "iter    objective    inf_pr   inf_du lg(mu)  ||d||  lg(rg) alpha_du alpha_pr  ls\n",
      "   0  6.3949934e+00 1.20e+00 2.46e+01  -1.0 0.00e+00    -  0.00e+00 0.00e+00   0\n",
      "   1  1.9678875e+03 5.36e-01 1.04e+02  -1.0 1.80e+00    -  5.78e-03 5.54e-01h  1\n",
      "   2  3.9189542e+03 2.21e-01 4.33e+01  -1.0 8.67e-01    -  7.86e-01 5.87e-01h  1\n",
      "   3  4.0838932e+03 1.99e-01 3.91e+01  -1.0 3.28e-01    -  9.90e-01 1.01e-01h  1\n",
      "   4  4.6246921e+03 1.30e-01 3.00e+01  -1.0 3.88e-01    -  3.99e-01 3.44e-01h  1\n",
      "   5  5.3156503e+03 5.15e-02 6.92e+01  -1.0 3.39e-01    -  1.00e+00 6.05e-01h  1\n",
      "   6  5.3292409e+03 5.01e-02 3.46e+02  -1.0 1.37e-01    -  6.54e-01 2.77e-02h  1\n",
      "   7  5.5205184e+03 3.21e-02 1.94e+02  -1.0 1.96e-01    -  2.39e-01 3.60e-01h  1\n",
      "   8  5.8348400e+03 5.52e-03 5.79e+01  -1.0 1.41e-01    -  4.69e-01 8.28e-01h  1\n",
      "   9  5.9095426e+03 6.11e-05 1.03e+00  -1.0 2.72e-02    -  1.00e+00 1.00e+00h  1\n",
      "iter    objective    inf_pr   inf_du lg(mu)  ||d||  lg(rg) alpha_du alpha_pr  ls\n",
      "  10  5.9074933e+03 1.06e-06 9.33e-03  -1.7 1.93e-03    -  1.00e+00 1.00e+00f  1\n",
      "  11  5.9068856e+03 1.67e-07 3.76e-04  -3.8 7.76e-04    -  1.00e+00 1.00e+00f  1\n",
      "  12  5.9068795e+03 3.04e-11 5.44e-08  -5.7 1.12e-05    -  1.00e+00 1.00e+00h  1\n",
      "  13  5.9068794e+03 1.08e-15 2.99e-12  -8.6 6.80e-08    -  1.00e+00 1.00e+00h  1\n",
      "\n",
      "Number of Iterations....: 13\n",
      "\n",
      "                                   (scaled)                 (unscaled)\n",
      "Objective...............:   1.1813758833436352e+03    5.9068794167181759e+03\n",
      "Dual infeasibility......:   2.9935758855821582e-12    1.4967879427910791e-11\n",
      "Constraint violation....:   1.0824674490095276e-15    1.0824674490095276e-15\n",
      "Complementarity.........:   2.5073447862552047e-09    1.2536723931276023e-08\n",
      "Overall NLP error.......:   2.5073447862552047e-09    1.2536723931276023e-08\n",
      "\n",
      "\n",
      "Number of objective function evaluations             = 14\n",
      "Number of objective gradient evaluations             = 14\n",
      "Number of equality constraint evaluations            = 14\n",
      "Number of inequality constraint evaluations          = 14\n",
      "Number of equality constraint Jacobian evaluations   = 14\n",
      "Number of inequality constraint Jacobian evaluations = 14\n",
      "Number of Lagrangian Hessian evaluations             = 13\n",
      "Total CPU secs in IPOPT (w/o function evaluations)   =      0.013\n",
      "Total CPU secs in NLP function evaluations           =      0.003\n",
      "\n",
      "EXIT: Optimal Solution Found.\n",
      "\u001b[35m[warn | PowerModels]: there was an issue with getsolvetime() on the solver, falling back on @timed.  This is not a rigorous timing value.\u001b[39m\n",
      "Dict{String,Any}(\"dcline\"=>Dict{String,Any}(\"1\"=>Dict{String,Any}(\"qf\"=>-0.244802,\"qt\"=>0.0393416,\"pf\"=>0.1,\"pt\"=>-0.1)),\"baseMVA\"=>100.0,\"gen\"=>Dict{String,Any}(\"1\"=>Dict{String,Any}(\"qg\"=>0.30217,\"pg\"=>1.58067),\"2\"=>Dict{String,Any}(\"qg\"=>-0.0485697,\"pg\"=>1.60006),\"3\"=>Dict{String,Any}(\"qg\"=>-0.0484264,\"pg\"=>0.0)),\"bus\"=>Dict{String,Any}(\"1\"=>Dict{String,Any}(\"va\"=>0.0,\"vm\"=>1.1),\"2\"=>Dict{String,Any}(\"va\"=>0.12669,\"vm\"=>0.926171),\"3\"=>Dict{String,Any}(\"va\"=>-0.301368,\"vm\"=>0.9)),\"per_unit\"=>true)"
     ]
    }
   ],
   "source": [
    "result_ipopt = run_ac_opf(network_data, IpoptSolver())\n",
    "print(result_ipopt[\"solution\"])"
   ]
  },
  {
   "cell_type": "code",
   "execution_count": null,
   "metadata": {},
   "outputs": [],
   "source": []
  },
  {
   "cell_type": "code",
   "execution_count": null,
   "metadata": {},
   "outputs": [],
   "source": []
  },
  {
   "cell_type": "code",
   "execution_count": null,
   "metadata": {},
   "outputs": [],
   "source": []
  },
  {
   "cell_type": "code",
   "execution_count": null,
   "metadata": {},
   "outputs": [],
   "source": [
    "model = Model()\n",
    "@variable(model, slack_str, start=0)\n",
    "@constraint(model,constr_slack,slack_str>=1e-7)"
   ]
  },
  {
   "cell_type": "code",
   "execution_count": null,
   "metadata": {},
   "outputs": [],
   "source": []
  }
 ],
 "metadata": {
  "kernelspec": {
   "display_name": "Julia 0.7.0",
   "language": "julia",
   "name": "julia-0.7"
  },
  "language_info": {
   "file_extension": ".jl",
   "mimetype": "application/julia",
   "name": "julia",
   "version": "0.7.0"
  }
 },
 "nbformat": 4,
 "nbformat_minor": 2
}
